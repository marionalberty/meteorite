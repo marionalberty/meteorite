{
 "cells": [
  {
   "cell_type": "markdown",
   "id": "ranging-quest",
   "metadata": {},
   "source": [
    "# Calc meteorite particle displacements\n",
    "\n",
    "Equation for terminal sinking velocity based on:\n",
    "Grace, J.R., 1986. Contacting modes and behaviour classification of gas—solid and other two‐phase suspensions. The Canadian Journal of Chemical Engineering, 64(3), pp.353-363."
   ]
  },
  {
   "cell_type": "code",
   "execution_count": 1,
   "id": "similar-appendix",
   "metadata": {},
   "outputs": [],
   "source": [
    "from glob import glob\n",
    "import xarray as xr\n",
    "import matplotlib.pyplot as plt\n",
    "plt.rcParams.update({'font.size': 16})\n",
    "import gsw\n",
    "from scipy.interpolate import interp1d\n",
    "import numpy as np"
   ]
  },
  {
   "cell_type": "markdown",
   "id": "royal-batch",
   "metadata": {},
   "source": [
    "## Set analysis parameters"
   ]
  },
  {
   "cell_type": "code",
   "execution_count": 2,
   "id": "hidden-equality",
   "metadata": {},
   "outputs": [],
   "source": [
    "# lat, lon of impact 1.3S, 147.6E\n",
    "lat_I = -1.3\n",
    "lon_I = 147.6\n",
    "# nominal grid spacing\n",
    "dl = 0.084\n",
    "# ocean bottom depth [m]\n",
    "z_bottom = -1700\n",
    "# particle radius [m]\n",
    "a = [1e-4, 1e-3, 1e-2, 1e-1]"
   ]
  },
  {
   "cell_type": "markdown",
   "id": "common-union",
   "metadata": {},
   "source": [
    "## Read in GLORYs and HYCOM data"
   ]
  },
  {
   "cell_type": "code",
   "execution_count": 3,
   "id": "grave-vessel",
   "metadata": {},
   "outputs": [],
   "source": [
    "# base directory\n",
    "base = '/net2/mjh/ipynb/MeteoriteAnalysis/'\n",
    "# GLORYs files\n",
    "flist_G = glob(f'{base}glorys*_section.nc')\n",
    "# HYCOM files\n",
    "flist_H = glob(f'{base}hycom*.nc')"
   ]
  },
  {
   "cell_type": "code",
   "execution_count": 4,
   "id": "direct-edition",
   "metadata": {},
   "outputs": [],
   "source": [
    "# load profiles of t, s, u, and v\n",
    "# GLORYs\n",
    "DS_G = xr.open_mfdataset(flist_G,engine='netcdf4'\n",
    "                        ).sel(latitude=slice(lat_I-dl,lat_I+dl),\n",
    "                              longitude=slice(lon_I-dl,lon_I+dl)).assign_coords(radius=a)\n",
    "DS_H = xr.open_mfdataset(flist_H,engine='netcdf4'\n",
    "                        ).sel(lat=slice(lat_I-dl,lat_I+dl),\n",
    "                              lon=slice(lon_I-dl,lon_I+dl)).assign_coords(radius=a)"
   ]
  },
  {
   "cell_type": "markdown",
   "id": "monthly-acrylic",
   "metadata": {},
   "source": [
    "# Functions for displacements"
   ]
  },
  {
   "cell_type": "code",
   "execution_count": 5,
   "id": "nominated-denver",
   "metadata": {},
   "outputs": [],
   "source": [
    "def w_sink(a,rho_f):\n",
    "    import math\n",
    "    # rho_f = fluid density [kg/m3]\n",
    "    # a = particle radius [m]\n",
    "    # Use the grace method which handles the transition between \n",
    "    # laminar and turbulent regimes for terminal velocity of \n",
    "    # sinking particle.\n",
    "    \n",
    "    # kinematic viscosity [kg/m s]\n",
    "    mu = 1e-3\n",
    "    # gravitational acceleration [m2/s]\n",
    "    g = 9.8\n",
    "    # particle density, iron at room temp [kg/m3]\n",
    "    rho_p = 7.874e3\n",
    "    \n",
    "    # convert to diameter\n",
    "    d = 2 * a\n",
    "    \n",
    "    # non-dimensionalize d\n",
    "    d_str = d * (rho_f*g*(rho_p-rho_f)/(mu**2))**(1/3)\n",
    "    # extra param\n",
    "    w = math.log10(d_str)\n",
    "    \n",
    "    # calc of non-dimensionalized terminal velocity\n",
    "    if d_str <=3.8:\n",
    "        w_str = (d_str**2)/18 - 3.1234e-4*(d_str**5) + 1.6415e-6*(d_str**8) - 7.278e-10*(d_str**11)\n",
    "    elif d_str > 3.8 and d_str <= 7.58:\n",
    "        w_str = 10**(-1.5446 + 2.9162*w - 1.0432*w**2)\n",
    "    elif d_str > 7.58 and d_str <= 227:\n",
    "        w_str = 10**(-1.64758 + 2.94786*w - 1.09703*w**2 + 0.17129*w**3)\n",
    "    else:\n",
    "        w_str = 10**(5.1837 - 4.51034*w + 1.687*w**2 - 0.189135*w**3)\n",
    "    \n",
    "    # conversion back to physical units\n",
    "    w_term = -w_str * ((mu*g*(rho_p-rho_f))/(rho_f**2))**(1/3)\n",
    "    return w_term"
   ]
  },
  {
   "cell_type": "code",
   "execution_count": 6,
   "id": "judicial-transport",
   "metadata": {},
   "outputs": [],
   "source": [
    "def particle_displacement(a,T,S,u,v,z,depth_seafloor,lat):\n",
    "    # Set initial values\n",
    "    time = 0\n",
    "    z_p = 0\n",
    "    x_p = 0\n",
    "    y_p = 0\n",
    "    # Set integration time step [s]\n",
    "    dt = 10\n",
    "    while z_p > depth_seafloor:\n",
    "        # get the pressure for the given depth\n",
    "        p_z = gsw.p_from_z(z_p,lat)\n",
    "        # get T and S at the starting depth\n",
    "        if z_p > z[0] or z_p < z[-1]:\n",
    "            S_z = interp1d(z,S,fill_value='extrapolate')(z_p)\n",
    "            T_z = interp1d(z,T,fill_value='extrapolate')(z_p)\n",
    "        else:\n",
    "            S_z = interp1d(z,S,kind='cubic')(z_p)\n",
    "            T_z = interp1d(z,T,kind='cubic')(z_p)\n",
    "        # calc the density at the given depth\n",
    "        rho_z = gsw.rho(S_z,T_z,p_z)\n",
    "        # calc sinking velocity\n",
    "        w = w_sink(a,rho_z)\n",
    "        # calc dz for timestep\n",
    "        dz = w * dt\n",
    "        # get u, v over [z_p, z_p + dz]\n",
    "        if z_p+(dz/2) > z[0] or z_p+(dz/2) < z[-1]:\n",
    "            u_z = interp1d(z,u,fill_value='extrapolate')(z_p+(dz/2))\n",
    "            v_z = interp1d(z,v,fill_value='extrapolate')(z_p+(dz/2))\n",
    "        else:\n",
    "            u_z = interp1d(z,u,kind='cubic')(z_p+(dz/2))\n",
    "            v_z = interp1d(z,v,kind='cubic')(z_p+(dz/2))\n",
    "        # update x_p, y_p\n",
    "        x_p = x_p + (u_z * dt)\n",
    "        y_p = y_p + (v_z * dt)\n",
    "        # update z_p\n",
    "        z_p = z_p + dz\n",
    "        # update time\n",
    "        time = time + dt\n",
    "    return x_p, y_p, time"
   ]
  },
  {
   "cell_type": "markdown",
   "id": "productive-outreach",
   "metadata": {},
   "source": [
    "## Calc displacements for each particle size and model"
   ]
  },
  {
   "cell_type": "markdown",
   "id": "earned-fifth",
   "metadata": {},
   "source": [
    "### GLORYs"
   ]
  },
  {
   "cell_type": "code",
   "execution_count": 7,
   "id": "recreational-dating",
   "metadata": {},
   "outputs": [],
   "source": [
    "# Get len of each dimension\n",
    "n_t = len(DS_G['time'])\n",
    "n_lat = len(DS_G['latitude'])\n",
    "n_lon = len(DS_G['longitude'])\n",
    "n_a = len(a)"
   ]
  },
  {
   "cell_type": "code",
   "execution_count": 8,
   "id": "varied-aberdeen",
   "metadata": {},
   "outputs": [],
   "source": [
    "# Prelocate displacements for each particle size\n",
    "DS_G['dx_p'] = (('time','latitude','longitude','radius'), np.zeros(DS_G.zos.shape + (n_a,)))\n",
    "DS_G['dy_p'] = (('time','latitude','longitude','radius'), np.zeros(DS_G.zos.shape + (n_a,)))\n",
    "DS_G['sink_time_p'] = (('time','latitude','longitude','radius'), np.zeros(DS_G.zos.shape + (n_a,)))"
   ]
  },
  {
   "cell_type": "code",
   "execution_count": 9,
   "id": "brief-portrait",
   "metadata": {},
   "outputs": [],
   "source": [
    "# run through each:\n",
    "# time\n",
    "for i_t in np.arange(n_t):\n",
    "    # latitude\n",
    "    for i_lat in np.arange(n_lat):\n",
    "        # longitude\n",
    "        for i_lon in np.arange(n_lon):\n",
    "            # Extract profile\n",
    "            ds = DS_G.isel(time=i_t,latitude=i_lat,longitude=i_lon).dropna('depth').squeeze()\n",
    "            # get model values\n",
    "            T = ds.thetao.values\n",
    "            S = ds.so.values\n",
    "            u = ds.uo.values\n",
    "            v = ds.vo.values\n",
    "            z = -ds.depth.values\n",
    "            \n",
    "            # particle radius\n",
    "            for i_a in np.arange(n_a):\n",
    "                # get particle radius\n",
    "                r = ds.radius.values[i_a]\n",
    "                \n",
    "                # run calculation for particle displacement\n",
    "                dx_p, dy_p, timeS = particle_displacement(r,T,S,u,v,z,z_bottom,lat_I)\n",
    "                # append values\n",
    "                DS_G['dx_p'][i_t,i_lat,i_lon,i_a] = dx_p\n",
    "                DS_G['dy_p'][i_t,i_lat,i_lon,i_a] = dy_p\n",
    "                DS_G['sink_time_p'][i_t,i_lat,i_lon,i_a] = timeS"
   ]
  },
  {
   "cell_type": "markdown",
   "id": "comfortable-conspiracy",
   "metadata": {},
   "source": [
    "### HYCOM"
   ]
  },
  {
   "cell_type": "code",
   "execution_count": 10,
   "id": "supported-limit",
   "metadata": {},
   "outputs": [],
   "source": [
    "# Get len of each dimension\n",
    "n_t = len(DS_H['time'])\n",
    "n_lat = len(DS_H['lat'])\n",
    "n_lon = len(DS_H['lon'])\n",
    "n_a = len(a)"
   ]
  },
  {
   "cell_type": "code",
   "execution_count": 11,
   "id": "cultural-bubble",
   "metadata": {},
   "outputs": [],
   "source": [
    "# Prelocate displacements for each particle size\n",
    "DS_H['dx_p'] = (('time','lat','lon','radius'), np.zeros(DS_H.surf_el.shape + (n_a,)))\n",
    "DS_H['dy_p'] = (('time','lat','lon','radius'), np.zeros(DS_H.surf_el.shape + (n_a,)))\n",
    "DS_H['sink_time_p'] = (('time','lat','lon','radius'), np.zeros(DS_H.surf_el.shape + (n_a,)))"
   ]
  },
  {
   "cell_type": "code",
   "execution_count": 12,
   "id": "desperate-illness",
   "metadata": {},
   "outputs": [],
   "source": [
    "# run through each:\n",
    "# time\n",
    "for i_t in np.arange(n_t):\n",
    "    # latitude\n",
    "    for i_lat in np.arange(n_lat):\n",
    "        # longitude\n",
    "        for i_lon in np.arange(n_lon):\n",
    "            # Extract profile\n",
    "            ds = DS_H.isel(time=i_t,lat=i_lat,lon=i_lon).dropna('depth').squeeze()\n",
    "            # get model values\n",
    "            T = ds.water_temp.values\n",
    "            S = ds.salinity.values\n",
    "            u = ds.water_u.values\n",
    "            v = ds.water_v.values\n",
    "            z = -ds.depth.values\n",
    "            \n",
    "            # particle radius\n",
    "            for i_a in np.arange(n_a):\n",
    "                # get particle radius\n",
    "                r = ds.radius.values[i_a]\n",
    "                \n",
    "                # run calculation for particle displacement\n",
    "                dx_p, dy_p, timeS = particle_displacement(r,T,S,u,v,z,z_bottom,lat_I)\n",
    "                # append values\n",
    "                DS_H['dx_p'][i_t,i_lat,i_lon,i_a] = dx_p\n",
    "                DS_H['dy_p'][i_t,i_lat,i_lon,i_a] = dy_p\n",
    "                DS_H['sink_time_p'][i_t,i_lat,i_lon,i_a] = timeS"
   ]
  },
  {
   "cell_type": "markdown",
   "id": "agricultural-poker",
   "metadata": {},
   "source": [
    "## Calculate the mean and error of the particle displacement for each model"
   ]
  },
  {
   "cell_type": "code",
   "execution_count": 13,
   "id": "obvious-logging",
   "metadata": {},
   "outputs": [],
   "source": [
    "cns = ['midnightblue', 'slateblue', 'dodgerblue','lightblue']"
   ]
  },
  {
   "cell_type": "code",
   "execution_count": 14,
   "id": "welcome-buyer",
   "metadata": {},
   "outputs": [
    {
     "data": {
      "image/png": "[encoded data removed]",
      "text/plain": [
       "<Figure size 576x360 with 1 Axes>"
      ]
     },
     "metadata": {
      "needs_background": "light"
     },
     "output_type": "display_data"
    }
   ],
   "source": [
    "fig = plt.figure(figsize=(8,5))\n",
    "for i in np.arange(len(a)):\n",
    "    plt.scatter(DS_G['dx_p'].isel(radius=i),DS_G['dy_p'].isel(radius=i),c=cns[i],label=f'r = {a[i]} m')\n",
    "#     plt.scatter(DS_G['dx_p'].isel(radius=i).mean(),DS_G['dy_p'].isel(radius=i).mean(),c=cns[i],s=200)\n",
    "    plt.scatter(DS_H['dx_p'].isel(radius=i),DS_H['dy_p'].isel(radius=i),c=cns[i],marker='v')\n",
    "#     plt.scatter(DS_H['dx_p'].isel(radius=i).mean(),DS_H['dy_p'].isel(radius=i).mean(),c=cns[i],s=200,marker='v')\n",
    "plt.legend(ncol=2,prop={'size': 11})\n",
    "plt.title('Particle Displacements from Impact')\n",
    "plt.xlabel('Zonal (W-E) Displacement [m]')\n",
    "plt.ylabel('Meridional (S-N) Displacement [m]')\n",
    "plt.show()"
   ]
  },
  {
   "cell_type": "code",
   "execution_count": 15,
   "id": "invalid-calibration",
   "metadata": {},
   "outputs": [],
   "source": [
    "N_G = len(DS_G['time'])*len(DS_G['latitude'])*len(DS_G['longitude'])\n",
    "N_H = len(DS_H['time'])*len(DS_H['lat'])*len(DS_H['lon'])"
   ]
  },
  {
   "cell_type": "code",
   "execution_count": 16,
   "id": "nuclear-stock",
   "metadata": {},
   "outputs": [
    {
     "name": "stdout",
     "output_type": "stream",
     "text": [
      "radius = 0.0001, mean dx,dy = -267.4262670854735,114.69245952070317, error = 276.0698322260954\n",
      "radius = 0.001, mean dx,dy = -31.047224385410317,13.79067294656189, error = 33.52529044763651\n",
      "radius = 0.01, mean dx,dy = -8.81514730295393,4.11317969852663, error = 10.346335172859048\n",
      "radius = 0.1, mean dx,dy = -4.3021183540172245,1.8414423488674512, error = 4.680033604185615\n"
     ]
    }
   ],
   "source": [
    "for i in a:\n",
    "    # Calculate the means\n",
    "    dx_bar = ((1/(2*N_G))*DS_G['dx_p'].sel(radius=i).sum() + \n",
    "              (1/(2*N_H))*DS_H['dx_p'].sel(radius=i).sum()).values\n",
    "    dy_bar = ((1/(2*N_G))*DS_G['dy_p'].sel(radius=i).sum() + \n",
    "              (1/(2*N_H))*DS_H['dy_p'].sel(radius=i).sum()).values\n",
    "    # calc displacements\n",
    "    dx = np.concatenate((DS_G['dx_p'].sel(radius=i).values.flatten(),\n",
    "                         DS_H['dx_p'].sel(radius=i).values.flatten()))\n",
    "    dy = np.concatenate((DS_G['dy_p'].sel(radius=i).values.flatten(),\n",
    "                         DS_H['dy_p'].sel(radius=i).values.flatten()))\n",
    "    dr = ((dx-dx_bar)**2 + (dy-dy_bar)**2)**(1/2)\n",
    "    # calc rms displacement of all points\n",
    "    error = ((dr**2).mean())**(1/2)\n",
    "    # Print stats\n",
    "    print(f'radius = {i}, mean dx,dy = {dx_bar},{dy_bar}, error = {error}')"
   ]
  }
 ],
 "metadata": {
  "kernelspec": {
   "display_name": "Python 3",
   "language": "python",
   "name": "python3"
  },
  "language_info": {
   "codemirror_mode": {
    "name": "ipython",
    "version": 3
   },
   "file_extension": ".py",
   "mimetype": "text/x-python",
   "name": "python",
   "nbconvert_exporter": "python",
   "pygments_lexer": "ipython3",
   "version": "3.8.6"
  }
 },
 "nbformat": 4,
 "nbformat_minor": 5
}
